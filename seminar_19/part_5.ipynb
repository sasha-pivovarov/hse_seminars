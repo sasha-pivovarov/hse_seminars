{
 "cells": [
  {
   "cell_type": "markdown",
   "metadata": {},
   "source": [
    "## 5 RNN for text classification"
   ]
  },
  {
   "cell_type": "code",
   "execution_count": 19,
   "metadata": {},
   "outputs": [],
   "source": [
    "from keras.layers import LSTM\n",
    "from keras.layers import Dense, Embedding\n",
    "from keras.models import Sequential"
   ]
  },
  {
   "cell_type": "code",
   "execution_count": 23,
   "metadata": {},
   "outputs": [
    {
     "name": "stdout",
     "output_type": "stream",
     "text": [
      "_________________________________________________________________\n",
      "Layer (type)                 Output Shape              Param #   \n",
      "=================================================================\n",
      "embedding_8 (Embedding)      (None, 1000, 50)          4075100   \n",
      "_________________________________________________________________\n",
      "lstm_3 (LSTM)                (None, 32)                10624     \n",
      "_________________________________________________________________\n",
      "dense_15 (Dense)             (None, 64)                2112      \n",
      "_________________________________________________________________\n",
      "dense_16 (Dense)             (None, 1)                 65        \n",
      "=================================================================\n",
      "Total params: 4,087,901\n",
      "Trainable params: 4,087,901\n",
      "Non-trainable params: 0\n",
      "_________________________________________________________________\n"
     ]
    }
   ],
   "source": [
    "embed_dim = 50\n",
    "\n",
    "model = Sequential()\n",
    "model.add(Embedding(input_dim=len(word_index) + 1, \n",
    "                    output_dim=embed_dim, \n",
    "                    input_length=MAX_SEQUENCE_LENGTH))\n",
    "\n",
    "model.add(LSTM(32))\n",
    "\n",
    "model.add( Dense(64, activation='relu') )\n",
    "model.add( Dense(1, activation='sigmoid') )\n",
    "\n",
    "model.compile(loss='binary_crossentropy', optimizer='rmsprop', metrics=['accuracy'])\n",
    "model.summary()"
   ]
  },
  {
   "cell_type": "code",
   "execution_count": 26,
   "metadata": {
    "scrolled": false
   },
   "outputs": [
    {
     "name": "stdout",
     "output_type": "stream",
     "text": [
      "Train on 20000 samples, validate on 5000 samples\n",
      "Epoch 1/10\n",
      "20000/20000 [==============================] - 113s 6ms/step - loss: 0.4619 - acc: 0.7985 - val_loss: 0.3154 - val_acc: 0.8722\n",
      "Epoch 2/10\n",
      "20000/20000 [==============================] - 113s 6ms/step - loss: 0.2739 - acc: 0.8921 - val_loss: 0.2955 - val_acc: 0.8754\n",
      "Epoch 3/10\n",
      "20000/20000 [==============================] - 113s 6ms/step - loss: 0.2073 - acc: 0.9211 - val_loss: 0.3164 - val_acc: 0.8746\n",
      "Epoch 4/10\n",
      "20000/20000 [==============================] - 115s 6ms/step - loss: 0.1614 - acc: 0.9429 - val_loss: 0.3233 - val_acc: 0.8790\n",
      "Epoch 5/10\n",
      "20000/20000 [==============================] - 113s 6ms/step - loss: 0.1321 - acc: 0.9529 - val_loss: 0.3119 - val_acc: 0.8794\n",
      "Epoch 6/10\n",
      "20000/20000 [==============================] - 115s 6ms/step - loss: 0.1133 - acc: 0.9597 - val_loss: 0.3826 - val_acc: 0.8784\n",
      "Epoch 7/10\n",
      "20000/20000 [==============================] - 114s 6ms/step - loss: 0.0934 - acc: 0.9667 - val_loss: 0.3612 - val_acc: 0.8576\n",
      "Epoch 8/10\n",
      "20000/20000 [==============================] - 116s 6ms/step - loss: 0.0791 - acc: 0.9729 - val_loss: 0.4962 - val_acc: 0.8718\n",
      "Epoch 9/10\n",
      "20000/20000 [==============================] - 113s 6ms/step - loss: 0.0655 - acc: 0.9774 - val_loss: 0.7676 - val_acc: 0.8320\n",
      "Epoch 10/10\n",
      "20000/20000 [==============================] - 114s 6ms/step - loss: 0.0593 - acc: 0.9804 - val_loss: 0.6515 - val_acc: 0.8716\n"
     ]
    },
    {
     "data": {
      "text/plain": [
       "<keras.callbacks.History at 0x7ff161727400>"
      ]
     },
     "execution_count": 26,
     "metadata": {},
     "output_type": "execute_result"
    }
   ],
   "source": [
    "model.fit(X_imdb, y_imdb, validation_split=0.2, epochs=10, batch_size=256)"
   ]
  },
  {
   "cell_type": "code",
   "execution_count": 28,
   "metadata": {},
   "outputs": [],
   "source": [
    "model.save('model_lstm')"
   ]
  },
  {
   "cell_type": "code",
   "execution_count": null,
   "metadata": {},
   "outputs": [],
   "source": []
  }
 ],
 "metadata": {
  "kernelspec": {
   "display_name": "Python [default]",
   "language": "python",
   "name": "python3"
  },
  "language_info": {
   "codemirror_mode": {
    "name": "ipython",
    "version": 3
   },
   "file_extension": ".py",
   "mimetype": "text/x-python",
   "name": "python",
   "nbconvert_exporter": "python",
   "pygments_lexer": "ipython3",
   "version": "3.5.4"
  },
  "widgets": {
   "state": {},
   "version": "1.1.2"
  }
 },
 "nbformat": 4,
 "nbformat_minor": 2
}
