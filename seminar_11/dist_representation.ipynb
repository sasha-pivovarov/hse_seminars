{
 "cells": [
  {
   "cell_type": "markdown",
   "metadata": {},
   "source": [
    "# Distributed representations\n",
    "\n",
    "\n",
    "1. Sparse features  \n",
    "    1.1 Hashing trick  \n",
    "    1.2 Categorial features  \n",
    "    \n",
    "    Note about semi-supervised learning.\n",
    "    \n",
    "2. Word2vec  \n",
    "    2.1 skip-gram model  \n",
    "    2.2 continious bag of words model  \n",
    "    2.3 Co-occurence matrix  \n",
    "    2.4 Glove    \n",
    "    "
   ]
  },
  {
   "cell_type": "markdown",
   "metadata": {},
   "source": [
    "## 1 Sparse features\n",
    "### 1.1 Hashing trick"
   ]
  },
  {
   "cell_type": "markdown",
   "metadata": {},
   "source": [
    "Basically it is a substution (string_token) -> hash(string_token) of fixed size  \n",
    "    \n",
    "Hello, polynomial hash for strings and MurmurHash3 (used in sklearn)  \n",
    "\n",
    "Pros:\n",
    "    1. extrapolate on unseen words, scalable\n",
    "    2. reduce feature dimension\n",
    "Cons:\n",
    "    1. no inverse transform possible\n",
    "    2. collisions"
   ]
  },
  {
   "cell_type": "code",
   "execution_count": 1,
   "metadata": {},
   "outputs": [
    {
     "name": "stdout",
     "output_type": "stream",
     "text": [
      "train logloss 0.559925312648\n",
      "test logloss 0.629119988516\n"
     ]
    }
   ],
   "source": [
    "# demonstrate on US airlines twitter dataset for sentiment analysis\n",
    "import pandas as pd\n",
    "import numpy as np\n",
    "from sklearn.feature_extraction.text import HashingVectorizer\n",
    "from sklearn import model_selection\n",
    "from sklearn.pipeline import Pipeline\n",
    "from sklearn.linear_model import LogisticRegressionCV\n",
    "from sklearn.preprocessing import LabelEncoder\n",
    "from sklearn import metrics\n",
    "\n",
    "\n",
    "SEED = 1337\n",
    "\n",
    "\n",
    "df = pd.read_csv('../seminar_10/Tweets.csv')\n",
    "\n",
    "y = LabelEncoder().fit_transform(df.airline_sentiment)\n",
    "\n",
    "df_train, df_test, y_train, y_test = model_selection.train_test_split(df, y, test_size=0.25, \n",
    "                                                                      stratify=y, # WHY\n",
    "                                                                      random_state=SEED, \n",
    "                                                                      shuffle=True) # WHY\n",
    "\n",
    "# model v1\n",
    "# Simple BOW model, binary matrix  \n",
    "# Let's try to reduce number of features with hashing\n",
    "model1 = Pipeline([\n",
    "    ('text_vect', HashingVectorizer(analyzer='word', n_features=500, ngram_range=(1,1), norm=None, binary=True)),\n",
    "    ('logreg', LogisticRegressionCV(Cs=10, cv=3, scoring='neg_log_loss', n_jobs=-1, \n",
    "                                    multi_class='multinomial', random_state=SEED))\n",
    "])\n",
    "\n",
    "model1.fit(df_train.text, y_train)\n",
    "print('train logloss', metrics.log_loss(y_train, model1.predict_proba(df_train.text)))\n",
    "print('test logloss', metrics.log_loss(y_test, model1.predict_proba(df_test.text)))"
   ]
  },
  {
   "cell_type": "markdown",
   "metadata": {},
   "source": [
    "### 1.2 Categorial features in linear models"
   ]
  },
  {
   "cell_type": "code",
   "execution_count": 2,
   "metadata": {},
   "outputs": [
    {
     "data": {
      "text/plain": [
       "United            3822\n",
       "US Airways        2913\n",
       "American          2759\n",
       "Southwest         2420\n",
       "Delta             2222\n",
       "Virgin America     504\n",
       "Name: airline, dtype: int64"
      ]
     },
     "execution_count": 2,
     "metadata": {},
     "output_type": "execute_result"
    }
   ],
   "source": [
    "# add categorial feature to our linear model with one-hot encoding\n",
    "\n",
    "# categorial features\n",
    "df.airline.value_counts()"
   ]
  },
  {
   "cell_type": "code",
   "execution_count": 3,
   "metadata": {},
   "outputs": [
    {
     "name": "stdout",
     "output_type": "stream",
     "text": [
      "one-hot enc shape (10980, 6)\n",
      "train logloss 0.558588706479\n",
      "test logloss 0.627312575957\n"
     ]
    }
   ],
   "source": [
    "from sklearn.preprocessing import OneHotEncoder\n",
    "\n",
    "text_vec = HashingVectorizer(analyzer='word', n_features=500, ngram_range=(1,1), norm=None, \n",
    "                             binary=True)\n",
    "X1_train = text_vec.fit_transform(df_train.text).toarray()\n",
    "\n",
    "tmp_le = LabelEncoder()\n",
    "X2_train = tmp_le.fit_transform(df_train.airline.values).reshape(-1,1)\n",
    "\n",
    "enc = OneHotEncoder(sparse=False)\n",
    "X2_train = enc.fit_transform(X2_train)\n",
    "print('one-hot enc shape', X2_train.shape)\n",
    "\n",
    "X_train = np.hstack([X1_train, X2_train])\n",
    "\n",
    "model2 = LogisticRegressionCV(Cs=10, cv=3, scoring='neg_log_loss', n_jobs=-1, \n",
    "                                    multi_class='multinomial', random_state=SEED)\n",
    "model2.fit(X_train, y_train)\n",
    "\n",
    "X1_test = text_vec.transform(df_test.text).toarray()\n",
    "X2_test = tmp_le.transform(df_test.airline.values).reshape(-1,1)\n",
    "X2_test = enc.transform(X2_test)\n",
    "X_test = np.hstack([X1_test, X2_test])\n",
    "\n",
    "print('train logloss', metrics.log_loss(y_train, model2.predict_proba(X_train)))\n",
    "print('test logloss', metrics.log_loss(y_test, model2.predict_proba(X_test)))"
   ]
  },
  {
   "cell_type": "markdown",
   "metadata": {},
   "source": [
    "## 2 Word2vec\n",
    "![image](http://nlpx.net/wp/wp-content/uploads/2015/11/word2vec.png)\n",
    "### 2.1 Skip-gram model\n",
    "![image](https://i.stack.imgur.com/igSuE.png)"
   ]
  },
  {
   "cell_type": "markdown",
   "metadata": {},
   "source": [
    "For each word t predict surrounding words in a window of size m\n",
    "\n",
    "Objective is maximize probability of context words given the current center word:  \n",
    "    \n",
    "$J(\\theta) = \\prod^T_{t=1} \\prod_{-m \\le j \\le m; j != 0 }  p(w_{t+j} | w_t; \\theta)  \\rightarrow max $\n",
    "\n",
    "or negative log-likelihood:\n",
    "\n",
    "$J(\\theta) = -\\frac{1}{T}\\sum^T_{t=1} \\sum_{-m \\le j \\le m; j != 0 }  log p(w_{t+j} | w_t; \\theta)  \\rightarrow max $"
   ]
  },
  {
   "cell_type": "markdown",
   "metadata": {},
   "source": [
    "$p(w_{t+j} | w_t) = p(out | center) = \\frac{exp(u_{out}^T v_{center})}{\\sum_k=1^K exp(u_{k}^T v_{center})}$"
   ]
  },
  {
   "cell_type": "markdown",
   "metadata": {},
   "source": [
    "Using negative sampling with k samples:   \n",
    "    \n",
    "$log p(w_{t+j} | w_t; \\theta) = log \\sigma(u_{outer}^T v_{center})  + \\sum_{i=1}^k E_{j ~ P(w)} [log \\sigma (-u_j^T v_{center})]$"
   ]
  },
  {
   "cell_type": "code",
   "execution_count": 4,
   "metadata": {},
   "outputs": [
    {
     "data": {
      "text/html": [
       "<div>\n",
       "<style scoped>\n",
       "    .dataframe tbody tr th:only-of-type {\n",
       "        vertical-align: middle;\n",
       "    }\n",
       "\n",
       "    .dataframe tbody tr th {\n",
       "        vertical-align: top;\n",
       "    }\n",
       "\n",
       "    .dataframe thead th {\n",
       "        text-align: right;\n",
       "    }\n",
       "</style>\n",
       "<table border=\"1\" class=\"dataframe\">\n",
       "  <thead>\n",
       "    <tr style=\"text-align: right;\">\n",
       "      <th></th>\n",
       "      <th>Sentence #</th>\n",
       "      <th>Word</th>\n",
       "      <th>POS</th>\n",
       "      <th>Tag</th>\n",
       "    </tr>\n",
       "  </thead>\n",
       "  <tbody>\n",
       "    <tr>\n",
       "      <th>0</th>\n",
       "      <td>Sentence: 1</td>\n",
       "      <td>Thousands</td>\n",
       "      <td>NNS</td>\n",
       "      <td>O</td>\n",
       "    </tr>\n",
       "    <tr>\n",
       "      <th>1</th>\n",
       "      <td>NaN</td>\n",
       "      <td>of</td>\n",
       "      <td>IN</td>\n",
       "      <td>O</td>\n",
       "    </tr>\n",
       "    <tr>\n",
       "      <th>2</th>\n",
       "      <td>NaN</td>\n",
       "      <td>demonstrators</td>\n",
       "      <td>NNS</td>\n",
       "      <td>O</td>\n",
       "    </tr>\n",
       "    <tr>\n",
       "      <th>3</th>\n",
       "      <td>NaN</td>\n",
       "      <td>have</td>\n",
       "      <td>VBP</td>\n",
       "      <td>O</td>\n",
       "    </tr>\n",
       "    <tr>\n",
       "      <th>4</th>\n",
       "      <td>NaN</td>\n",
       "      <td>marched</td>\n",
       "      <td>VBN</td>\n",
       "      <td>O</td>\n",
       "    </tr>\n",
       "  </tbody>\n",
       "</table>\n",
       "</div>"
      ],
      "text/plain": [
       "    Sentence #           Word  POS Tag\n",
       "0  Sentence: 1      Thousands  NNS   O\n",
       "1          NaN             of   IN   O\n",
       "2          NaN  demonstrators  NNS   O\n",
       "3          NaN           have  VBP   O\n",
       "4          NaN        marched  VBN   O"
      ]
     },
     "execution_count": 4,
     "metadata": {},
     "output_type": "execute_result"
    }
   ],
   "source": [
    "df = pd.read_csv('ner_dataset.csv', encoding='latin-1')\n",
    "df.head()"
   ]
  },
  {
   "cell_type": "code",
   "execution_count": 5,
   "metadata": {},
   "outputs": [],
   "source": [
    "df = df.loc[:10000]"
   ]
  },
  {
   "cell_type": "code",
   "execution_count": 6,
   "metadata": {},
   "outputs": [
    {
     "data": {
      "text/plain": [
       "O        0.848215\n",
       "B-gpe    0.030297\n",
       "B-geo    0.024498\n",
       "I-per    0.020598\n",
       "B-org    0.017598\n",
       "B-per    0.015998\n",
       "B-tim    0.014899\n",
       "I-org    0.013999\n",
       "I-geo    0.003100\n",
       "B-art    0.002800\n",
       "I-gpe    0.002000\n",
       "I-art    0.002000\n",
       "I-tim    0.001300\n",
       "B-eve    0.001000\n",
       "I-eve    0.001000\n",
       "B-nat    0.000500\n",
       "I-nat    0.000200\n",
       "Name: Tag, dtype: float64"
      ]
     },
     "execution_count": 6,
     "metadata": {},
     "output_type": "execute_result"
    }
   ],
   "source": [
    "df.Tag.value_counts(normalize=True)"
   ]
  },
  {
   "cell_type": "code",
   "execution_count": 12,
   "metadata": {},
   "outputs": [
    {
     "name": "stderr",
     "output_type": "stream",
     "text": [
      "100%|██████████| 10001/10001 [00:11<00:00, 891.79it/s]"
     ]
    },
    {
     "name": "stdout",
     "output_type": "stream",
     "text": [
      "CPU times: user 11.3 s, sys: 88 ms, total: 11.3 s\n",
      "Wall time: 11.3 s\n"
     ]
    },
    {
     "name": "stderr",
     "output_type": "stream",
     "text": [
      "\n"
     ]
    }
   ],
   "source": [
    "%%time\n",
    "from tqdm import tqdm\n",
    "\n",
    "current = df.loc[0, 'Sentence #']\n",
    "for j in tqdm(range(df.shape[0])):\n",
    "    if pd.isnull(df.loc[j, 'Sentence #']):\n",
    "        df.loc[j, 'Sentence #'] = current\n",
    "    else:\n",
    "        current = df.loc[j, 'Sentence #']"
   ]
  },
  {
   "cell_type": "code",
   "execution_count": 13,
   "metadata": {},
   "outputs": [
    {
     "data": {
      "text/plain": [
       "(10001, 4)"
      ]
     },
     "execution_count": 13,
     "metadata": {},
     "output_type": "execute_result"
    }
   ],
   "source": [
    "df.shape"
   ]
  },
  {
   "cell_type": "code",
   "execution_count": 14,
   "metadata": {},
   "outputs": [],
   "source": [
    "sentences_list = list(df.groupby('Sentence #').Word.agg(lambda col: list(col)).values)"
   ]
  },
  {
   "cell_type": "code",
   "execution_count": 15,
   "metadata": {},
   "outputs": [
    {
     "name": "stdout",
     "output_type": "stream",
     "text": [
      "CPU times: user 1.83 s, sys: 4 ms, total: 1.84 s\n",
      "Wall time: 648 ms\n"
     ]
    }
   ],
   "source": [
    "%%time\n",
    "\n",
    "from gensim.models.word2vec import Word2Vec\n",
    "\n",
    "\n",
    "w2v = Word2Vec(sentences_list, negative=5, size=100, iter=100,\n",
    "               sg=1)"
   ]
  },
  {
   "cell_type": "code",
   "execution_count": 16,
   "metadata": {},
   "outputs": [
    {
     "data": {
      "text/plain": [
       "[('arrested', 0.7161649465560913),\n",
       " ('news', 0.5250526666641235),\n",
       " ('Bali', 0.49507197737693787),\n",
       " ('authorities', 0.48440536856651306),\n",
       " ('1995', 0.4536770284175873),\n",
       " ('Ramda', 0.44481196999549866),\n",
       " ('Indonesian', 0.429607629776001),\n",
       " ('men', 0.419624388217926),\n",
       " ('Muslim', 0.41935527324676514),\n",
       " ('religious', 0.41110479831695557)]"
      ]
     },
     "execution_count": 16,
     "metadata": {},
     "output_type": "execute_result"
    }
   ],
   "source": [
    "w2v.wv.most_similar('police')"
   ]
  },
  {
   "cell_type": "markdown",
   "metadata": {},
   "source": [
    "### 2.2 CBOW model"
   ]
  },
  {
   "cell_type": "markdown",
   "metadata": {},
   "source": [
    "![!image](http://chaoyangzhu.com/2017/08/19/Word2Vec-the-Skip-Gram-and-Continuous-Bag-of-Words-Model/CBOW.png)"
   ]
  },
  {
   "cell_type": "markdown",
   "metadata": {},
   "source": [
    "$h = W^T x$  \n",
    "$x = [w_{j-m}, w_{j-m+1}, ... w_{j-1}, w_{j+1}, ..., w_{j+m}]$  \n",
    "\n",
    "$p(w_j | x) = \\frac{exp(v_j^T h)}{\\sum_k=1^K exp(v_k^T h)}$"
   ]
  },
  {
   "cell_type": "code",
   "execution_count": 17,
   "metadata": {},
   "outputs": [
    {
     "name": "stdout",
     "output_type": "stream",
     "text": [
      "CPU times: user 780 ms, sys: 4 ms, total: 784 ms\n",
      "Wall time: 286 ms\n"
     ]
    }
   ],
   "source": [
    "%%time\n",
    "\n",
    "from gensim.models.word2vec import Word2Vec\n",
    "\n",
    "\n",
    "w2v = Word2Vec(sentences_list, negative=5, size=100, iter=100,\n",
    "               sg=0)"
   ]
  },
  {
   "cell_type": "code",
   "execution_count": 18,
   "metadata": {},
   "outputs": [
    {
     "data": {
      "text/plain": [
       "[('arrested', 0.9197296500205994),\n",
       " ('they', 0.8160843849182129),\n",
       " ('one', 0.8109095096588135),\n",
       " ('They', 0.8108460903167725),\n",
       " ('men', 0.7938530445098877),\n",
       " ('Officials', 0.7803452014923096),\n",
       " ('news', 0.7786381244659424),\n",
       " ('Bali', 0.7746149897575378),\n",
       " ('Ramda', 0.773020327091217),\n",
       " ('reported', 0.7419112920761108)]"
      ]
     },
     "execution_count": 18,
     "metadata": {},
     "output_type": "execute_result"
    }
   ],
   "source": [
    "w2v.wv.most_similar('police')"
   ]
  },
  {
   "cell_type": "markdown",
   "metadata": {},
   "source": [
    "### 2.3 Co-occurence matrix"
   ]
  },
  {
   "cell_type": "markdown",
   "metadata": {},
   "source": [
    "$P_{ij}$ - occurance of ith word along with j in the window of size m\n",
    "\n",
    "Cons: \n",
    "1. Very high-dimensional, not used in practice\n",
    "2. Hard to add new words and docs\n",
    "\n",
    "Solution for 1:\n",
    "1. Use some dimension-reduction method, usually SVD"
   ]
  },
  {
   "cell_type": "markdown",
   "metadata": {},
   "source": [
    "Singular Value Decomposition\n",
    "\n",
    "$M = U \\Sigma V$  \n",
    "$Mv = \\sigma u$  \n",
    "$M^{*}u = \\sigma v$   \n",
    "U, V are unitary matrices  \n",
    "$\\Sigma$ - diagonal\n",
    "\n",
    "\n",
    "$O(nm^2)$ for case n < m"
   ]
  },
  {
   "cell_type": "markdown",
   "metadata": {},
   "source": [
    "### 2.4 Glove"
   ]
  },
  {
   "cell_type": "markdown",
   "metadata": {},
   "source": [
    "$J(\\theta) = \\frac{1}{2} \\sum_{i,j=1}^W f(P_{ij})(u_i^T v_j - log P_{ij})$"
   ]
  },
  {
   "cell_type": "markdown",
   "metadata": {},
   "source": [
    "pip install glove-python"
   ]
  },
  {
   "cell_type": "code",
   "execution_count": 19,
   "metadata": {
    "scrolled": true
   },
   "outputs": [],
   "source": [
    "from glove import Corpus, Glove\n",
    "\n",
    "\n",
    "# construct co-occurance matrix\n",
    "corpus = Corpus()\n",
    "corpus.fit(sentences_list, window=5)\n",
    "\n",
    "\n",
    "glove = Glove(no_components=100, learning_rate=0.05)\n",
    "glove.fit(corpus.matrix, epochs=100, no_threads=4, verbose=False)\n",
    "glove.add_dictionary(corpus.dictionary)"
   ]
  },
  {
   "cell_type": "code",
   "execution_count": 20,
   "metadata": {},
   "outputs": [
    {
     "data": {
      "text/plain": [
       "[('have', 0.96584710117145967),\n",
       " ('been', 0.94980699423519754),\n",
       " ('now', 0.91982068464752376),\n",
       " ('arrested', 0.89106702413428185)]"
      ]
     },
     "execution_count": 20,
     "metadata": {},
     "output_type": "execute_result"
    }
   ],
   "source": [
    "glove.most_similar('police')"
   ]
  },
  {
   "cell_type": "code",
   "execution_count": 21,
   "metadata": {},
   "outputs": [
    {
     "data": {
      "text/plain": [
       "array([-0.06373107,  0.00660779,  0.00198552,  0.01588677, -0.04370594,\n",
       "        0.01726277,  0.03111042, -0.03803431,  0.01086599, -0.00552099,\n",
       "       -0.0255159 ,  0.02388672, -0.02132961,  0.04047212, -0.0048955 ,\n",
       "        0.00786338,  0.00681678,  0.02083918,  0.06618839, -0.00561955,\n",
       "        0.01100433, -0.02659185, -0.02236061, -0.01816501, -0.02355093,\n",
       "       -0.00503574, -0.0024676 , -0.02036608, -0.03039759,  0.01722127,\n",
       "        0.0005871 , -0.00363654,  0.01328764,  0.00019342,  0.03065761,\n",
       "       -0.00217669,  0.01583674, -0.03217559, -0.03417455,  0.0162312 ,\n",
       "       -0.04813819, -0.01857898,  0.04468576, -0.00634232,  0.00877675,\n",
       "        0.0330481 , -0.02542432,  0.02333535,  0.01009918, -0.03192986,\n",
       "        0.01421471, -0.01503508, -0.00372783,  0.01537362,  0.05988799,\n",
       "        0.04015709,  0.00135291,  0.00476957, -0.01157399, -0.02555511,\n",
       "        0.00330979,  0.04183831, -0.00037858, -0.01671695, -0.00691607,\n",
       "       -0.02183392,  0.01438478,  0.00939871, -0.02542321, -0.00190508,\n",
       "       -0.01433402,  0.00767718,  0.00325412, -0.05119858, -0.02876604,\n",
       "       -0.00504751, -0.0234834 , -0.05875956,  0.03094858,  0.00153722,\n",
       "        0.00192696,  0.01867008,  0.00636784,  0.02272087,  0.02002859,\n",
       "        0.00336152, -0.01156864, -0.00091745, -0.0398081 ,  0.0134999 ,\n",
       "       -0.01598697, -0.00260553,  0.00948103,  0.03599105, -0.00695896,\n",
       "        0.02190049, -0.02957949,  0.00880139,  0.00945124, -0.00232933])"
      ]
     },
     "execution_count": 21,
     "metadata": {},
     "output_type": "execute_result"
    }
   ],
   "source": [
    "glove.word_vectors[glove.dictionary['police']]"
   ]
  },
  {
   "cell_type": "code",
   "execution_count": 22,
   "metadata": {},
   "outputs": [
    {
     "data": {
      "text/plain": [
       "<matplotlib.axes._subplots.AxesSubplot at 0x7fe058594128>"
      ]
     },
     "execution_count": 22,
     "metadata": {},
     "output_type": "execute_result"
    },
    {
     "data": {
      "image/png": "[encoded data removed]",
      "text/plain": [
       "<matplotlib.figure.Figure at 0x7fe06118db70>"
      ]
     },
     "metadata": {},
     "output_type": "display_data"
    }
   ],
   "source": [
    "import matplotlib.pyplot as plt\n",
    "% matplotlib inline\n",
    "import seaborn as sns\n",
    "\n",
    "\n",
    "sns.distplot([len(x) for x in sentences_list])"
   ]
  },
  {
   "cell_type": "code",
   "execution_count": 23,
   "metadata": {},
   "outputs": [
    {
     "name": "stderr",
     "output_type": "stream",
     "text": [
      "100%|██████████| 10001/10001 [00:34<00:00, 290.43it/s]\n"
     ]
    }
   ],
   "source": [
    "f_words = []\n",
    "f_pos = []\n",
    "y = []\n",
    "\n",
    "window = 3\n",
    "for t in tqdm(range(df.shape[0])):\n",
    "    start_sentence = df[df['Sentence #'] == df.loc[t, 'Sentence #']].index.min()\n",
    "    end_sentence = df[df['Sentence #'] == df.loc[t, 'Sentence #']].index.max()\n",
    "    \n",
    "    r_pos = []\n",
    "    r_words = []\n",
    "    \n",
    "    for i in range(t-window, t):\n",
    "        if i < start_sentence:\n",
    "            r_words.append(None)\n",
    "            r_pos.append(None)\n",
    "        else:\n",
    "            r_words.append(df.loc[i, 'Word'])\n",
    "            r_pos.append(df.loc[i, 'POS'])\n",
    "            \n",
    "            \n",
    "    for i in range(t+1, t+window+1):\n",
    "        if i > end_sentence:\n",
    "            r_words.append(None)\n",
    "            r_pos.append(None)\n",
    "        else:\n",
    "            r_words.append(df.loc[i, 'Word'])\n",
    "            r_pos.append(df.loc[i, 'POS'])\n",
    "            \n",
    "    f_words.append(r_words)\n",
    "    f_pos.append(r_pos)\n",
    "    \n",
    "    y.append(df.loc[t, 'Tag'])\n",
    "    \n",
    "    "
   ]
  },
  {
   "cell_type": "code",
   "execution_count": null,
   "metadata": {},
   "outputs": [],
   "source": []
  }
 ],
 "metadata": {
  "kernelspec": {
   "display_name": "Python [conda root]",
   "language": "python",
   "name": "conda-root-py"
  },
  "language_info": {
   "codemirror_mode": {
    "name": "ipython",
    "version": 3
   },
   "file_extension": ".py",
   "mimetype": "text/x-python",
   "name": "python",
   "nbconvert_exporter": "python",
   "pygments_lexer": "ipython3",
   "version": "3.5.4"
  }
 },
 "nbformat": 4,
 "nbformat_minor": 2
}
