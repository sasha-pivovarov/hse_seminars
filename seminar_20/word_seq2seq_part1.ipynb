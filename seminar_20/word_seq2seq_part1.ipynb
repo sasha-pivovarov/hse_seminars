{
 "cells": [
  {
   "cell_type": "code",
   "execution_count": 1,
   "metadata": {},
   "outputs": [
    {
     "name": "stderr",
     "output_type": "stream",
     "text": [
      "/opt/anaconda3/lib/python3.5/site-packages/h5py/__init__.py:36: FutureWarning: Conversion of the second argument of issubdtype from `float` to `np.floating` is deprecated. In future, it will be treated as `np.float64 == np.dtype(float).type`.\n",
      "  from ._conv import register_converters as _register_converters\n",
      "Using TensorFlow backend.\n"
     ]
    }
   ],
   "source": [
    "from keras.models import Model, load_model\n",
    "from keras.layers import Input, LSTM, Dense, Embedding\n",
    "import numpy as np"
   ]
  },
  {
   "cell_type": "code",
   "execution_count": 2,
   "metadata": {},
   "outputs": [],
   "source": [
    "num_samples = 25000  # Number of samples to train on.\n",
    "# Path to the data txt file on disk.\n",
    "data_path = 'rus.txt'"
   ]
  },
  {
   "cell_type": "code",
   "execution_count": 3,
   "metadata": {},
   "outputs": [
    {
     "name": "stdout",
     "output_type": "stream",
     "text": [
      "Go.\tИди.\r\n",
      "Go.\tИдите.\r\n",
      "Hi.\tЗдравствуйте.\r\n",
      "Hi.\tПривет!\r\n",
      "Hi.\tХай.\r\n",
      "Hi.\tЗдрасте.\r\n",
      "Hi.\tЗдоро́во!\r\n",
      "Run!\tБеги!\r\n",
      "Run!\tБегите!\r\n",
      "Run.\tБеги!\r\n"
     ]
    }
   ],
   "source": [
    "!head rus.txt"
   ]
  },
  {
   "cell_type": "code",
   "execution_count": 4,
   "metadata": {},
   "outputs": [],
   "source": [
    "#TODO\n",
    "\n",
    "import string\n",
    "\n",
    "START = '<START>'\n",
    "END   = '<END>'\n",
    "\n",
    "# Vectorize the data\n",
    "\n",
    "# fill the following variables:\n",
    "input_texts = []\n",
    "target_texts = []\n",
    "input_words = set()\n",
    "target_words = set()\n",
    "\n",
    "\n",
    "with open(data_path, 'r', encoding='utf-8') as f:\n",
    "    lines = f.read().split('\\n')\n",
    "for line in lines[: min(num_samples, len(lines) - 1)]:\n",
    "    input_text, target_text = line.split('\\t')\n",
    "    input_text = input_text.translate(str.maketrans(\"\", \"\", string.punctuation))\n",
    "    target_text = target_text.translate(str.maketrans(\"\", \"\", string.punctuation))\n",
    "    \n",
    "    \n",
    "    # lowercase\n",
    "    # append target text with aux tokens"
   ]
  },
  {
   "cell_type": "code",
   "execution_count": 5,
   "metadata": {},
   "outputs": [
    {
     "name": "stdout",
     "output_type": "stream",
     "text": [
      "Number of samples: 25000\n",
      "Number of unique input tokens: 3255\n",
      "Number of unique output tokens: 8804\n",
      "Max sequence length for inputs: 5\n",
      "Max sequence length for outputs: 11\n"
     ]
    }
   ],
   "source": [
    "input_words = sorted(list(input_words))\n",
    "target_words = sorted(list(target_words))\n",
    "num_encoder_tokens = len(input_words)\n",
    "num_decoder_tokens = len(target_words)\n",
    "max_encoder_seq_length = max([len(txt) for txt in input_texts])\n",
    "max_decoder_seq_length = max([len(txt) for txt in target_texts])\n",
    "\n",
    "print('Number of samples:', len(input_texts))\n",
    "print('Number of unique input tokens:', num_encoder_tokens)\n",
    "print('Number of unique output tokens:', num_decoder_tokens)\n",
    "print('Max sequence length for inputs:', max_encoder_seq_length)\n",
    "print('Max sequence length for outputs:', max_decoder_seq_length)"
   ]
  },
  {
   "cell_type": "code",
   "execution_count": 6,
   "metadata": {},
   "outputs": [],
   "source": [
    "input_token_index = {word: i for i, word in enumerate(input_words)}\n",
    "target_token_index = {word: i for i, word in enumerate(target_words)}\n",
    "\n",
    "encoder_input_data = np.zeros((len(input_texts), max_encoder_seq_length),    dtype='float32')\n",
    "decoder_input_data = np.zeros((len(input_texts), max_decoder_seq_length),    dtype='float32')\n",
    "decoder_target_data = np.zeros((len(input_texts), max_decoder_seq_length, num_decoder_tokens),    dtype='float32')"
   ]
  },
  {
   "cell_type": "code",
   "execution_count": 7,
   "metadata": {},
   "outputs": [],
   "source": [
    "# TODO\n",
    "# fill encoder_input_data, decoder_input_data, decoder_target_data"
   ]
  },
  {
   "cell_type": "markdown",
   "metadata": {},
   "source": [
    "## Define model"
   ]
  },
  {
   "cell_type": "code",
   "execution_count": 45,
   "metadata": {},
   "outputs": [],
   "source": [
    "from keras import backend\n",
    "backend.clear_session()"
   ]
  },
  {
   "cell_type": "code",
   "execution_count": 46,
   "metadata": {},
   "outputs": [],
   "source": [
    "!rm -rf word_seq2seq"
   ]
  },
  {
   "cell_type": "code",
   "execution_count": 8,
   "metadata": {},
   "outputs": [],
   "source": [
    "embedding_dim = 100\n",
    "latent_dim = 256  # Latent dimensionality of the encoding space."
   ]
  },
  {
   "cell_type": "code",
   "execution_count": 13,
   "metadata": {},
   "outputs": [],
   "source": [
    "# TODO build seq2seq model\n",
    "\n",
    "encoder_inputs = \n",
    "encoder_embed  = \n",
    "encoder_lstm   = \n",
    "encoder_states = \n",
    "\n",
    "# Set up the decoder, using `encoder_states` as initial state.\n",
    "decoder_inputs = \n",
    "decoder_embed = \n",
    "decoder_lstm = \n",
    "decoder_lstm_outputs = \n",
    "decoder_dense = \n",
    "decoder_outputs = \n",
    "\n",
    "model = Model([encoder_inputs, decoder_inputs], decoder_outputs)"
   ]
  },
  {
   "cell_type": "code",
   "execution_count": 14,
   "metadata": {},
   "outputs": [
    {
     "name": "stdout",
     "output_type": "stream",
     "text": [
      "__________________________________________________________________________________________________\n",
      "Layer (type)                    Output Shape         Param #     Connected to                     \n",
      "==================================================================================================\n",
      "input_5 (InputLayer)            (None, None)         0                                            \n",
      "__________________________________________________________________________________________________\n",
      "input_6 (InputLayer)            (None, None)         0                                            \n",
      "__________________________________________________________________________________________________\n",
      "embedding_3 (Embedding)         (None, None, 100)    325500      input_5[0][0]                    \n",
      "__________________________________________________________________________________________________\n",
      "embedding_4 (Embedding)         (None, None, 100)    880400      input_6[0][0]                    \n",
      "__________________________________________________________________________________________________\n",
      "lstm_3 (LSTM)                   [(None, 256), (None, 365568      embedding_3[0][0]                \n",
      "__________________________________________________________________________________________________\n",
      "lstm_4 (LSTM)                   [(None, None, 256),  365568      embedding_4[0][0]                \n",
      "                                                                 lstm_3[0][1]                     \n",
      "                                                                 lstm_3[0][2]                     \n",
      "__________________________________________________________________________________________________\n",
      "dense_2 (Dense)                 (None, None, 8804)   2262628     lstm_4[0][0]                     \n",
      "==================================================================================================\n",
      "Total params: 4,199,664\n",
      "Trainable params: 4,199,664\n",
      "Non-trainable params: 0\n",
      "__________________________________________________________________________________________________\n"
     ]
    }
   ],
   "source": [
    "model.summary()"
   ]
  },
  {
   "cell_type": "code",
   "execution_count": 15,
   "metadata": {},
   "outputs": [],
   "source": [
    "from keras.optimizers import Adam\n",
    "\n",
    "\n",
    "model.compile( Adam(0.01, decay=0.01), loss='categorical_crossentropy')"
   ]
  },
  {
   "cell_type": "code",
   "execution_count": 50,
   "metadata": {
    "scrolled": true
   },
   "outputs": [
    {
     "name": "stdout",
     "output_type": "stream",
     "text": [
      "Train on 20000 samples, validate on 5000 samples\n",
      "Epoch 1/50\n",
      "20000/20000 [==============================] - 24s 1ms/step - loss: 1.8708 - val_loss: 1.9070\n",
      "Epoch 2/50\n",
      "20000/20000 [==============================] - 23s 1ms/step - loss: 1.4919 - val_loss: 1.7794\n",
      "Epoch 3/50\n",
      "20000/20000 [==============================] - 23s 1ms/step - loss: 1.3406 - val_loss: 1.7315\n",
      "Epoch 4/50\n",
      "20000/20000 [==============================] - 23s 1ms/step - loss: 1.2355 - val_loss: 1.6838\n",
      "Epoch 5/50\n",
      "20000/20000 [==============================] - 23s 1ms/step - loss: 1.1597 - val_loss: 1.6563\n",
      "Epoch 6/50\n",
      "20000/20000 [==============================] - 23s 1ms/step - loss: 1.0934 - val_loss: 1.6332\n",
      "Epoch 7/50\n",
      "20000/20000 [==============================] - 23s 1ms/step - loss: 1.0387 - val_loss: 1.6136\n",
      "Epoch 8/50\n",
      "20000/20000 [==============================] - 23s 1ms/step - loss: 0.9916 - val_loss: 1.6076\n",
      "Epoch 9/50\n",
      "20000/20000 [==============================] - 23s 1ms/step - loss: 0.9512 - val_loss: 1.5934\n",
      "Epoch 10/50\n",
      "20000/20000 [==============================] - 23s 1ms/step - loss: 0.9157 - val_loss: 1.5845\n",
      "Epoch 11/50\n",
      "20000/20000 [==============================] - 23s 1ms/step - loss: 0.8849 - val_loss: 1.5800\n",
      "Epoch 12/50\n",
      "20000/20000 [==============================] - 23s 1ms/step - loss: 0.8585 - val_loss: 1.5735\n",
      "Epoch 13/50\n",
      "20000/20000 [==============================] - 23s 1ms/step - loss: 0.8339 - val_loss: 1.5706\n",
      "Epoch 14/50\n",
      "20000/20000 [==============================] - 22s 1ms/step - loss: 0.8130 - val_loss: 1.5686\n",
      "Epoch 15/50\n",
      "20000/20000 [==============================] - 22s 1ms/step - loss: 0.7914 - val_loss: 1.5607\n",
      "Epoch 16/50\n",
      "20000/20000 [==============================] - 21s 1ms/step - loss: 0.7730 - val_loss: 1.5616\n",
      "Epoch 17/50\n",
      "20000/20000 [==============================] - 23s 1ms/step - loss: 0.7563 - val_loss: 1.5578\n",
      "Epoch 18/50\n",
      "20000/20000 [==============================] - 23s 1ms/step - loss: 0.7406 - val_loss: 1.5580\n",
      "Epoch 19/50\n",
      "20000/20000 [==============================] - 23s 1ms/step - loss: 0.7256 - val_loss: 1.5566\n",
      "Epoch 20/50\n",
      "20000/20000 [==============================] - 23s 1ms/step - loss: 0.7120 - val_loss: 1.5542\n",
      "Epoch 21/50\n",
      "20000/20000 [==============================] - 23s 1ms/step - loss: 0.6992 - val_loss: 1.5530\n",
      "Epoch 22/50\n",
      "20000/20000 [==============================] - 23s 1ms/step - loss: 0.6873 - val_loss: 1.5535\n",
      "Epoch 23/50\n",
      "20000/20000 [==============================] - 23s 1ms/step - loss: 0.6762 - val_loss: 1.5540\n"
     ]
    },
    {
     "name": "stderr",
     "output_type": "stream",
     "text": [
      "/opt/anaconda3/lib/python3.5/site-packages/keras/engine/topology.py:2368: UserWarning: Layer lstm_2 was passed non-serializable keyword arguments: {'initial_state': [<tf.Tensor 'lstm_1/while/Exit_2:0' shape=(?, 256) dtype=float32>, <tf.Tensor 'lstm_1/while/Exit_3:0' shape=(?, 256) dtype=float32>]}. They will not be included in the serialized model (and thus will be missing at deserialization time).\n",
      "  str(node.arguments) + '. They will not be included '\n"
     ]
    }
   ],
   "source": [
    "from keras import callbacks\n",
    "\n",
    "batch_size = 256  # Batch size for training.\n",
    "epochs = 50  # Number of epochs to train for.\n",
    "\n",
    "model.fit([encoder_input_data, decoder_input_data], decoder_target_data,\n",
    "          batch_sкарize=batch_size,\n",
    "          epochs=epochs,\n",
    "          callbacks=[ callbacks.TensorBoard(log_dir='./word_seq2seq', \n",
    "                                            write_graph=True, \n",
    "                                           ),\n",
    "                      callbacks.EarlyStopping(monitor='val_loss', patience=2, ),\n",
    "                    ],\n",
    "          validation_split=0.2)"
   ]
  },
  {
   "cell_type": "code",
   "execution_count": null,
   "metadata": {},
   "outputs": [],
   "source": [
    "# Next: inference mode (sampling).\n",
    "# Here's the drill:\n",
    "# 1) encode input and retrieve initial decoder state\n",
    "# 2) run one step of decoder with this initial state\n",
    "# and a \"start of sequence\" token as target.\n",
    "# Output will be the next target token\n",
    "# 3) Repeat with the current target token and current states\n",
    "\n",
    "# Define sampling models\n",
    "encoder_model = Model(encoder_inputs, encoder_states)\n",
    "\n",
    "decoder_state_input_h = Input(shape=(latent_dim,))\n",
    "decoder_state_input_c = Input(shape=(latent_dim,))\n",
    "decoder_states_inputs = [decoder_state_input_h, decoder_state_input_c]\n",
    "decoder_outputs, state_h, state_c = decoder_lstm(decoder_embed, initial_state=decoder_states_inputs)\n",
    "decoder_states = [state_h, state_c]\n",
    "decoder_outputs = decoder_dense(decoder_outputs)\n",
    "decoder_model = Model([decoder_inputs] + decoder_states_inputs, [decoder_outputs] + decoder_states)"
   ]
  },
  {
   "cell_type": "code",
   "execution_count": null,
   "metadata": {},
   "outputs": [],
   "source": [
    "# Reverse-lookup token index to decode sequences back to\n",
    "# something readable.\n",
    "reverse_input_word_index = {i: word for word, i in input_token_index.items()}\n",
    "reverse_target_word_index = {i: word for word, i in target_token_index.items()}"
   ]
  },
  {
   "cell_type": "code",
   "execution_count": null,
   "metadata": {},
   "outputs": [],
   "source": [
    "# TODO\n",
    "\n",
    "def decode_sequence(input_seq):\n",
    "    # Encode the input as state vectors.\n",
    "    states_value = \n",
    "\n",
    "    # Generate empty target sequence of length 1.\n",
    "    # Populate the first character of target sequence with the start character.\n",
    "    target_seq = \n",
    "\n",
    "    # Sampling loop for a batch of sequences\n",
    "    # (to simplify, here we assume a batch of size 1).\n",
    "    stop_condition = False\n",
    "    decoded_sentence = []\n",
    "    while not stop_condition:\n",
    "        \n",
    "        # calculate probabilties for next token\n",
    "        # TODO\n",
    "        next_char_prob = \n",
    "        sampled_token = \n",
    "        decoded_sentence.append(sampled_token)\n",
    "\n",
    "        # Exit condition: either hit max length\n",
    "        # or find stop token.\n",
    "        # TODO\n",
    "\n",
    "        # Update the target sequence (of length 1).\n",
    "        # TODO\n",
    "\n",
    "        # Update states\n",
    "        # TODO\n",
    "\n",
    "    return decoded_sentence"
   ]
  },
  {
   "cell_type": "markdown",
   "metadata": {},
   "source": [
    "![img](BLEU_94.jpg)"
   ]
  },
  {
   "cell_type": "code",
   "execution_count": null,
   "metadata": {},
   "outputs": [],
   "source": [
    "from nltk.translate.bleu_score import sentence_bleu\n",
    "\n",
    "\n",
    "scores = []\n",
    "\n",
    "for seq_index in range(100):\n",
    "    # Take one sequence (part of the training set)\n",
    "    # for trying out decoding.\n",
    "    input_seq = encoder_input_data[seq_index: seq_index + 1]\n",
    "    decoded_sentence = decode_sequence(input_seq)\n",
    "    print('-')\n",
    "    print('Input sentence:', input_texts[seq_index])\n",
    "    print('Decoded sentence:', decoded_sentence)\n",
    "    \n",
    "    s = sentence_bleu(target_texts[seq_index], decoded_sentence, weights=(0.25, 0.25, 0.25, 0.25))\n",
    "    scores.append(s)\n",
    "    \n",
    "print('mean {} std {}'.format(np.mean(scores), np.std(scores)))"
   ]
  }
 ],
 "metadata": {
  "kernelspec": {
   "display_name": "Python [conda root]",
   "language": "python",
   "name": "conda-root-py"
  },
  "language_info": {
   "codemirror_mode": {
    "name": "ipython",
    "version": 3
   },
   "file_extension": ".py",
   "mimetype": "text/x-python",
   "name": "python",
   "nbconvert_exporter": "python",
   "pygments_lexer": "ipython3",
   "version": "3.5.5"
  }
 },
 "nbformat": 4,
 "nbformat_minor": 2
}
