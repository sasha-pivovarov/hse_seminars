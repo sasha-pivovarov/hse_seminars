{
 "cells": [
  {
   "cell_type": "markdown",
   "metadata": {},
   "source": [
    "# Seq2seq\n",
    "![img](arch.png)"
   ]
  },
  {
   "cell_type": "markdown",
   "metadata": {},
   "source": [
    "# Teacher forcing\n",
    "![img](teacher_forcing.png)"
   ]
  },
  {
   "cell_type": "code",
   "execution_count": 1,
   "metadata": {},
   "outputs": [
    {
     "name": "stdout",
     "output_type": "stream",
     "text": [
      "Go.\tИди.\r\n",
      "Go.\tИдите.\r\n",
      "Hi.\tЗдравствуйте.\r\n",
      "Hi.\tПривет!\r\n",
      "Hi.\tХай.\r\n",
      "Hi.\tЗдрасте.\r\n",
      "Hi.\tЗдоро́во!\r\n",
      "Run!\tБеги!\r\n",
      "Run!\tБегите!\r\n",
      "Run.\tБеги!\r\n"
     ]
    }
   ],
   "source": [
    "!head rus.txt"
   ]
  },
  {
   "cell_type": "code",
   "execution_count": 2,
   "metadata": {},
   "outputs": [
    {
     "name": "stderr",
     "output_type": "stream",
     "text": [
      "/opt/anaconda3/lib/python3.5/site-packages/h5py/__init__.py:36: FutureWarning: Conversion of the second argument of issubdtype from `float` to `np.floating` is deprecated. In future, it will be treated as `np.float64 == np.dtype(float).type`.\n",
      "  from ._conv import register_converters as _register_converters\n",
      "Using TensorFlow backend.\n"
     ]
    }
   ],
   "source": [
    "from keras.models import Model, load_model\n",
    "from keras.layers import Input, LSTM, Dense\n",
    "import numpy as np"
   ]
  },
  {
   "cell_type": "code",
   "execution_count": 3,
   "metadata": {},
   "outputs": [],
   "source": [
    "num_samples = 50000  # Number of samples to train on.\n",
    "# Path to the data txt file on disk.\n",
    "data_path = 'rus.txt'"
   ]
  },
  {
   "cell_type": "code",
   "execution_count": 4,
   "metadata": {},
   "outputs": [],
   "source": [
    "# Vectorize the data.\n",
    "\n",
    "START = '\\t'\n",
    "END = '\\n'\n",
    "\n",
    "# fill the following variables:\n",
    "input_texts = []\n",
    "target_texts = []\n",
    "input_characters = set()\n",
    "target_characters = set()\n",
    "\n",
    "with open(data_path, 'r', encoding='utf-8') as f:\n",
    "    lines = f.read().split('\\n')\n",
    "for line in lines[: min(num_samples, len(lines) - 1)]:\n",
    "    input_text, target_text = line.split('\\t')\n",
    "    \n",
    "    # lowercase\n",
    "    # append target text with aux tokens"
   ]
  },
  {
   "cell_type": "code",
   "execution_count": 5,
   "metadata": {},
   "outputs": [
    {
     "name": "stdout",
     "output_type": "stream",
     "text": [
      "Number of samples: 50000\n",
      "Number of unique input tokens: 50\n",
      "Number of unique output tokens: 78\n",
      "Max sequence length for inputs: 19\n",
      "Max sequence length for outputs: 63\n"
     ]
    }
   ],
   "source": [
    "input_characters = sorted(list(input_characters))\n",
    "target_characters = sorted(list(target_characters))\n",
    "num_encoder_tokens = len(input_characters)\n",
    "num_decoder_tokens = len(target_characters)\n",
    "max_encoder_seq_length = max([len(txt) for txt in input_texts])\n",
    "max_decoder_seq_length = max([len(txt) for txt in target_texts])\n",
    "\n",
    "print('Number of samples:', len(input_texts))\n",
    "print('Number of unique input tokens:', num_encoder_tokens)\n",
    "print('Number of unique output tokens:', num_decoder_tokens)\n",
    "print('Max sequence length for inputs:', max_encoder_seq_length)\n",
    "print('Max sequence length for outputs:', max_decoder_seq_length)"
   ]
  },
  {
   "cell_type": "code",
   "execution_count": 6,
   "metadata": {},
   "outputs": [],
   "source": [
    "input_token_index = {char: i for i, char in enumerate(input_characters)}\n",
    "target_token_index = {char: i for i, char in enumerate(target_characters)}\n",
    "\n",
    "encoder_input_data = np.zeros((len(input_texts), max_encoder_seq_length, num_encoder_tokens),    dtype='float32')\n",
    "decoder_input_data = np.zeros((len(input_texts), max_decoder_seq_length, num_decoder_tokens),    dtype='float32')\n",
    "decoder_target_data = np.zeros((len(input_texts), max_decoder_seq_length, num_decoder_tokens),    dtype='float32')"
   ]
  },
  {
   "cell_type": "code",
   "execution_count": 7,
   "metadata": {},
   "outputs": [],
   "source": [
    "# TODO\n",
    "# fill encoder_input_data, decoder_input_data, decoder_target_data"
   ]
  },
  {
   "cell_type": "markdown",
   "metadata": {},
   "source": [
    "## Define model"
   ]
  },
  {
   "cell_type": "code",
   "execution_count": 8,
   "metadata": {},
   "outputs": [],
   "source": [
    "from keras import backend\n",
    "backend.clear_session()"
   ]
  },
  {
   "cell_type": "code",
   "execution_count": 9,
   "metadata": {},
   "outputs": [],
   "source": [
    "!rm -rf char_seq2seq"
   ]
  },
  {
   "cell_type": "code",
   "execution_count": 8,
   "metadata": {},
   "outputs": [],
   "source": [
    "latent_dim = 256  # Latent dimensionality of the encoding space."
   ]
  },
  {
   "cell_type": "code",
   "execution_count": 11,
   "metadata": {},
   "outputs": [],
   "source": [
    "# TODO build seq2seq model\n",
    "\n",
    "# Define an input sequence and process it.\n",
    "encoder_inputs = \n",
    "encoder_lstm = \n",
    "\n",
    "encoder_states = [state_h, state_c]\n",
    "\n",
    "# Set up the decoder, using `encoder_states` as initial state.\n",
    "decoder_inputs = \n",
    "decoder_lstm =\n",
    "decoder_lstm_outputs = \n",
    "decoder_dense = \n",
    "decoder_outputs = \n",
    "\n",
    "\n",
    "model = "
   ]
  },
  {
   "cell_type": "code",
   "execution_count": 12,
   "metadata": {},
   "outputs": [
    {
     "name": "stdout",
     "output_type": "stream",
     "text": [
      "__________________________________________________________________________________________________\n",
      "Layer (type)                    Output Shape         Param #     Connected to                     \n",
      "==================================================================================================\n",
      "input_1 (InputLayer)            (None, None, 50)     0                                            \n",
      "__________________________________________________________________________________________________\n",
      "input_2 (InputLayer)            (None, None, 78)     0                                            \n",
      "__________________________________________________________________________________________________\n",
      "lstm_1 (LSTM)                   [(None, 256), (None, 314368      input_1[0][0]                    \n",
      "__________________________________________________________________________________________________\n",
      "lstm_2 (LSTM)                   [(None, None, 256),  343040      input_2[0][0]                    \n",
      "                                                                 lstm_1[0][1]                     \n",
      "                                                                 lstm_1[0][2]                     \n",
      "__________________________________________________________________________________________________\n",
      "dense_1 (Dense)                 (None, None, 78)     20046       lstm_2[0][0]                     \n",
      "==================================================================================================\n",
      "Total params: 677,454\n",
      "Trainable params: 677,454\n",
      "Non-trainable params: 0\n",
      "__________________________________________________________________________________________________\n"
     ]
    }
   ],
   "source": [
    "model.summary()"
   ]
  },
  {
   "cell_type": "code",
   "execution_count": 13,
   "metadata": {},
   "outputs": [],
   "source": [
    "from keras.optimizers import Adam\n",
    "\n",
    "\n",
    "model.compile( Adam(0.01, decay=0.01), loss='categorical_crossentropy')"
   ]
  },
  {
   "cell_type": "code",
   "execution_count": 14,
   "metadata": {
    "scrolled": true
   },
   "outputs": [
    {
     "name": "stdout",
     "output_type": "stream",
     "text": [
      "WARNING:tensorflow:Variable *= will be deprecated. Use variable.assign_mul if you want assignment to the variable value or 'x = x * y' if you want a new python Tensor object.\n",
      "Train on 40000 samples, validate on 10000 samples\n",
      "Epoch 1/50\n",
      "40000/40000 [==============================] - 28s 701us/step - loss: 0.6763 - val_loss: 0.6643\n",
      "Epoch 2/50\n",
      "40000/40000 [==============================] - 27s 669us/step - loss: 0.5150 - val_loss: 0.5839\n",
      "Epoch 3/50\n",
      "40000/40000 [==============================] - 27s 678us/step - loss: 0.4594 - val_loss: 0.5383\n",
      "Epoch 4/50\n",
      "40000/40000 [==============================] - 27s 672us/step - loss: 0.4286 - val_loss: 0.5116\n",
      "Epoch 5/50\n",
      "40000/40000 [==============================] - 27s 664us/step - loss: 0.4086 - val_loss: 0.4945\n",
      "Epoch 6/50\n",
      "40000/40000 [==============================] - 27s 669us/step - loss: 0.3946 - val_loss: 0.4847\n",
      "Epoch 7/50\n",
      "40000/40000 [==============================] - 27s 677us/step - loss: 0.3837 - val_loss: 0.4736\n",
      "Epoch 8/50\n",
      "40000/40000 [==============================] - 27s 663us/step - loss: 0.3749 - val_loss: 0.4664\n",
      "Epoch 9/50\n",
      "40000/40000 [==============================] - 28s 710us/step - loss: 0.3677 - val_loss: 0.4600\n",
      "Epoch 10/50\n",
      "40000/40000 [==============================] - 28s 689us/step - loss: 0.3615 - val_loss: 0.4563\n",
      "Epoch 11/50\n",
      "40000/40000 [==============================] - 27s 678us/step - loss: 0.3562 - val_loss: 0.4512\n",
      "Epoch 12/50\n",
      "40000/40000 [==============================] - 27s 681us/step - loss: 0.3514 - val_loss: 0.4480\n",
      "Epoch 13/50\n",
      "40000/40000 [==============================] - 28s 694us/step - loss: 0.3472 - val_loss: 0.4431\n",
      "Epoch 14/50\n",
      "40000/40000 [==============================] - 27s 675us/step - loss: 0.3435 - val_loss: 0.4401\n",
      "Epoch 15/50\n",
      "40000/40000 [==============================] - 26s 659us/step - loss: 0.3400 - val_loss: 0.4380\n",
      "Epoch 16/50\n",
      "40000/40000 [==============================] - 27s 667us/step - loss: 0.3369 - val_loss: 0.4349\n",
      "Epoch 17/50\n",
      "40000/40000 [==============================] - 27s 666us/step - loss: 0.3340 - val_loss: 0.4334\n",
      "Epoch 18/50\n",
      "40000/40000 [==============================] - 27s 679us/step - loss: 0.3314 - val_loss: 0.4311\n",
      "Epoch 19/50\n",
      "40000/40000 [==============================] - 26s 658us/step - loss: 0.3290 - val_loss: 0.4294\n",
      "Epoch 20/50\n",
      "40000/40000 [==============================] - 27s 673us/step - loss: 0.3266 - val_loss: 0.4278\n",
      "Epoch 21/50\n",
      "40000/40000 [==============================] - 27s 669us/step - loss: 0.3245 - val_loss: 0.4264\n",
      "Epoch 22/50\n",
      "40000/40000 [==============================] - 27s 667us/step - loss: 0.3227 - val_loss: 0.4246\n",
      "Epoch 23/50\n",
      "40000/40000 [==============================] - 27s 674us/step - loss: 0.3208 - val_loss: 0.4231\n",
      "Epoch 24/50\n",
      "40000/40000 [==============================] - 27s 674us/step - loss: 0.3191 - val_loss: 0.4221\n",
      "Epoch 25/50\n",
      "40000/40000 [==============================] - 27s 672us/step - loss: 0.3175 - val_loss: 0.4213\n",
      "Epoch 26/50\n",
      "40000/40000 [==============================] - 27s 679us/step - loss: 0.3160 - val_loss: 0.4197\n",
      "Epoch 27/50\n",
      "40000/40000 [==============================] - 27s 669us/step - loss: 0.3145 - val_loss: 0.4187\n",
      "Epoch 28/50\n",
      "40000/40000 [==============================] - 27s 679us/step - loss: 0.3131 - val_loss: 0.4179\n",
      "Epoch 29/50\n",
      "40000/40000 [==============================] - 28s 689us/step - loss: 0.3118 - val_loss: 0.4170\n",
      "Epoch 30/50\n",
      "40000/40000 [==============================] - 27s 668us/step - loss: 0.3106 - val_loss: 0.4155\n",
      "Epoch 31/50\n",
      "40000/40000 [==============================] - 28s 689us/step - loss: 0.3094 - val_loss: 0.4151\n",
      "Epoch 32/50\n",
      "40000/40000 [==============================] - 27s 673us/step - loss: 0.3082 - val_loss: 0.4146\n",
      "Epoch 33/50\n",
      "40000/40000 [==============================] - 27s 678us/step - loss: 0.3071 - val_loss: 0.4141\n",
      "Epoch 34/50\n",
      "40000/40000 [==============================] - 27s 672us/step - loss: 0.3062 - val_loss: 0.4127\n",
      "Epoch 35/50\n",
      "40000/40000 [==============================] - 27s 671us/step - loss: 0.3052 - val_loss: 0.4120\n",
      "Epoch 36/50\n",
      "40000/40000 [==============================] - 27s 669us/step - loss: 0.3042 - val_loss: 0.4113\n",
      "Epoch 37/50\n",
      "40000/40000 [==============================] - 27s 674us/step - loss: 0.3033 - val_loss: 0.4115\n",
      "Epoch 38/50\n",
      "40000/40000 [==============================] - 27s 677us/step - loss: 0.3023 - val_loss: 0.4105\n",
      "Epoch 39/50\n",
      "40000/40000 [==============================] - 27s 669us/step - loss: 0.3015 - val_loss: 0.4102\n",
      "Epoch 40/50\n",
      "40000/40000 [==============================] - 26s 659us/step - loss: 0.3007 - val_loss: 0.4104\n",
      "Epoch 41/50\n",
      "40000/40000 [==============================] - 27s 667us/step - loss: 0.2999 - val_loss: 0.4093\n",
      "Epoch 42/50\n",
      "40000/40000 [==============================] - 27s 676us/step - loss: 0.2991 - val_loss: 0.4086\n",
      "Epoch 43/50\n",
      "40000/40000 [==============================] - 27s 681us/step - loss: 0.2983 - val_loss: 0.4076\n",
      "Epoch 44/50\n",
      "40000/40000 [==============================] - 27s 680us/step - loss: 0.2976 - val_loss: 0.4075\n",
      "Epoch 45/50\n",
      "40000/40000 [==============================] - 27s 684us/step - loss: 0.2969 - val_loss: 0.4070\n",
      "Epoch 46/50\n",
      "40000/40000 [==============================] - 27s 665us/step - loss: 0.2962 - val_loss: 0.4065\n",
      "Epoch 47/50\n",
      "40000/40000 [==============================] - 26s 655us/step - loss: 0.2955 - val_loss: 0.4063\n",
      "Epoch 48/50\n",
      "40000/40000 [==============================] - 27s 667us/step - loss: 0.2949 - val_loss: 0.4056\n",
      "Epoch 49/50\n",
      "40000/40000 [==============================] - 26s 662us/step - loss: 0.2942 - val_loss: 0.4059\n",
      "Epoch 50/50\n",
      "40000/40000 [==============================] - 27s 675us/step - loss: 0.2936 - val_loss: 0.4050\n"
     ]
    },
    {
     "name": "stderr",
     "output_type": "stream",
     "text": [
      "/opt/anaconda3/lib/python3.5/site-packages/keras/engine/topology.py:2368: UserWarning: Layer lstm_2 was passed non-serializable keyword arguments: {'initial_state': [<tf.Tensor 'lstm_1/while/Exit_2:0' shape=(?, 256) dtype=float32>, <tf.Tensor 'lstm_1/while/Exit_3:0' shape=(?, 256) dtype=float32>]}. They will not be included in the serialized model (and thus will be missing at deserialization time).\n",
      "  str(node.arguments) + '. They will not be included '\n"
     ]
    }
   ],
   "source": [
    "from keras import callbacks\n",
    "\n",
    "batch_size = 256  # Batch size for training.\n",
    "epochs = 50  # Number of epochs to train for.\n",
    "\n",
    "model.fit([encoder_input_data, decoder_input_data], decoder_target_data,\n",
    "          batch_size=batch_size,\n",
    "          epochs=epochs,\n",
    "          callbacks=[ callbacks.TensorBoard(log_dir='./char_seq2seq', \n",
    "                                            write_graph=True, \n",
    "                                           ),\n",
    "                      callbacks.EarlyStopping(monitor='val_loss', patience=2, ),\n",
    "                    ],\n",
    "          validation_split=0.2)"
   ]
  },
  {
   "cell_type": "code",
   "execution_count": null,
   "metadata": {},
   "outputs": [],
   "source": [
    "# Next: inference mode (sampling).\n",
    "# Here's the drill:\n",
    "# 1) encode input and retrieve initial decoder state\n",
    "# 2) run one step of decoder with this initial state\n",
    "# and a \"start of sequence\" token as target.\n",
    "# Output will be the next target token\n",
    "# 3) Repeat with the current target token and current states\n",
    "\n",
    "# Define sampling models\n",
    "encoder_model = Model(encoder_inputs, encoder_states)\n",
    "\n",
    "decoder_state_input_h = Input(shape=(latent_dim,))\n",
    "decoder_state_input_c = Input(shape=(latent_dim,))\n",
    "decoder_states_inputs = [decoder_state_input_h, decoder_state_input_c]\n",
    "decoder_outputs, state_h, state_c = decoder_lstm(decoder_inputs, initial_state=decoder_states_inputs)\n",
    "decoder_states = [state_h, state_c]\n",
    "decoder_outputs = decoder_dense(decoder_outputs)\n",
    "decoder_model = Model([decoder_inputs] + decoder_states_inputs, [decoder_outputs] + decoder_states)"
   ]
  },
  {
   "cell_type": "code",
   "execution_count": null,
   "metadata": {},
   "outputs": [],
   "source": [
    "# Reverse-lookup token index to decode sequences back to\n",
    "# something readable.\n",
    "reverse_input_char_index = {i: char for char, i in input_token_index.items()}\n",
    "reverse_target_char_index = {i: char for char, i in target_token_index.items()}"
   ]
  },
  {
   "cell_type": "code",
   "execution_count": null,
   "metadata": {},
   "outputs": [],
   "source": [
    "# TODO\n",
    "\n",
    "def decode_sequence(input_seq):\n",
    "    # Encode the input as state vectors.\n",
    "    states_value = \n",
    "\n",
    "    # Generate empty target sequence of length 1.\n",
    "    # Populate the first character of target sequence with the start character.\n",
    "    target_seq = \n",
    "\n",
    "    # Sampling loop for a batch of sequences\n",
    "    # (to simplify, here we assume a batch of size 1).\n",
    "    stop_condition = False\n",
    "    decoded_sentence = ''\n",
    "    while not stop_condition:\n",
    "        \n",
    "        # calculate probabilties for next token\n",
    "        # TODO\n",
    "        next_char_prob = \n",
    "        sampled_token = \n",
    "        decoded_sentence += sampled_token\n",
    "\n",
    "        # Exit condition: either hit max length\n",
    "        # or find stop token.\n",
    "        # TODO\n",
    "\n",
    "        # Update the target sequence (of length 1).\n",
    "        # TODO\n",
    "\n",
    "        # Update states\n",
    "        # TODO\n",
    "\n",
    "    return decoded_sentence"
   ]
  },
  {
   "cell_type": "markdown",
   "metadata": {},
   "source": [
    "![img](BLEU_94.jpg)"
   ]
  },
  {
   "cell_type": "code",
   "execution_count": null,
   "metadata": {},
   "outputs": [],
   "source": [
    "from nltk.translate.bleu_score import sentence_bleu\n",
    "\n",
    "\n",
    "scores = []\n",
    "\n",
    "for seq_index in range(100):\n",
    "    # Take one sequence (part of the training set)\n",
    "    # for trying out decoding.\n",
    "    input_seq = encoder_input_data[seq_index: seq_index + 1]\n",
    "    decoded_sentence = decode_sequence(input_seq)\n",
    "    print('-')\n",
    "    print('Input sentence:', input_texts[seq_index])\n",
    "    print('Decoded sentence:', decoded_sentence)\n",
    "    \n",
    "    s = sentence_bleu(target_texts[seq_index], decoded_sentence, weights=(0.25, 0.25, 0.25, 0.25))\n",
    "    scores.append(s)\n",
    "    \n",
    "print('mean {} std {}'.format(np.mean(scores), np.std(scores)))"
   ]
  }
 ],
 "metadata": {
  "kernelspec": {
   "display_name": "Python [conda root]",
   "language": "python",
   "name": "conda-root-py"
  },
  "language_info": {
   "codemirror_mode": {
    "name": "ipython",
    "version": 3
   },
   "file_extension": ".py",
   "mimetype": "text/x-python",
   "name": "python",
   "nbconvert_exporter": "python",
   "pygments_lexer": "ipython3",
   "version": "3.5.5"
  }
 },
 "nbformat": 4,
 "nbformat_minor": 2
}
