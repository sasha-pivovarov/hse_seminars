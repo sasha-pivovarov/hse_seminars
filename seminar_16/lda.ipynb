{
 "cells": [
  {
   "cell_type": "markdown",
   "metadata": {},
   "source": [
    "# Latent Dirichlet Allocation"
   ]
  },
  {
   "cell_type": "markdown",
   "metadata": {},
   "source": [
    "![image](https://mollermara.com/blog/lda/lda-tikz.png)"
   ]
  },
  {
   "cell_type": "markdown",
   "metadata": {},
   "source": [
    "Multinomial distribution\n",
    "$p(x_1, ..., x_k) = \\frac{n!}{x_1! ... x_k!} p_1^{x_1}...p_k^{x_k}$, where\n",
    "$\\sum_{i=1}^k x_i = n$\n",
    "\n",
    "\n",
    "Dirichlet distribution\n",
    "$Dir(x | \\alpha) = \\frac{1}{B(\\alpha)} \\prod_{i=1}^k x_i^{\\alpha_i-1}$, where $\\alpha_i > 0$\n"
   ]
  },
  {
   "cell_type": "markdown",
   "metadata": {},
   "source": [
    "![image](http://cs.stanford.edu/~ppasupat/a9online/uploads/dp-dirichlet.png)"
   ]
  },
  {
   "cell_type": "code",
   "execution_count": 7,
   "metadata": {},
   "outputs": [],
   "source": [
    "import numpy as np\n",
    "import pandas as pd\n",
    "import matplotlib.pyplot as plt\n",
    "from sklearn.decomposition import LatentDirichletAllocation\n",
    "from sklearn.externals import joblib\n",
    "from sklearn import metrics\n",
    "from tqdm import tqdm\n",
    "\n",
    "%matplotlib inline\n",
    "plt.rcParams['figure.figsize'] = (10.0, 8.0) # set default size of plots\n",
    "plt.rcParams['image.interpolation'] = 'nearest'\n",
    "plt.rcParams['image.cmap'] = 'gray'"
   ]
  },
  {
   "cell_type": "code",
   "execution_count": 8,
   "metadata": {},
   "outputs": [],
   "source": [
    "A,terms,snippets = joblib.load(\"articles-tfidf.pkl\")"
   ]
  },
  {
   "cell_type": "markdown",
   "metadata": {},
   "source": [
    "## apply LDA"
   ]
  },
  {
   "cell_type": "code",
   "execution_count": 25,
   "metadata": {},
   "outputs": [],
   "source": [
    "# create the model\n",
    "k = 10\n",
    "model = LatentDirichletAllocation(n_components=k, max_iter=5,\n",
    "                                learning_method='batch',\n",
    "                                learning_offset=50.,\n",
    "                                random_state=1)\n",
    "\n",
    "W = model.fit_transform( A )\n",
    "H = model.components_"
   ]
  },
  {
   "cell_type": "code",
   "execution_count": 26,
   "metadata": {},
   "outputs": [
    {
     "data": {
      "text/plain": [
       "(4551, 10)"
      ]
     },
     "execution_count": 26,
     "metadata": {},
     "output_type": "execute_result"
    }
   ],
   "source": [
    "W.shape"
   ]
  },
  {
   "cell_type": "code",
   "execution_count": 27,
   "metadata": {},
   "outputs": [
    {
     "data": {
      "text/plain": [
       "array([ 0.01,  0.92,  0.01,  0.01,  0.01,  0.01,  0.01,  0.01,  0.01,  0.01])"
      ]
     },
     "execution_count": 27,
     "metadata": {},
     "output_type": "execute_result"
    }
   ],
   "source": [
    "W[0,:].round(2)"
   ]
  },
  {
   "cell_type": "code",
   "execution_count": 28,
   "metadata": {},
   "outputs": [
    {
     "data": {
      "text/plain": [
       "(10, 10285)"
      ]
     },
     "execution_count": 28,
     "metadata": {},
     "output_type": "execute_result"
    }
   ],
   "source": [
    "H.shape"
   ]
  },
  {
   "cell_type": "code",
   "execution_count": 29,
   "metadata": {},
   "outputs": [
    {
     "data": {
      "text/plain": [
       "array([  0.1 ,  67.76,   0.1 ,   0.1 ,   0.41,   0.1 ,   0.1 ,   0.1 ,\n",
       "         0.1 ,   0.1 ])"
      ]
     },
     "execution_count": 29,
     "metadata": {},
     "output_type": "execute_result"
    }
   ],
   "source": [
    "H[:,terms.index('brexit')].round(2)"
   ]
  },
  {
   "cell_type": "code",
   "execution_count": 30,
   "metadata": {},
   "outputs": [
    {
     "name": "stdout",
     "output_type": "stream",
     "text": [
      "Topic 01: league, season, leicester, premier, goal, liverpool, ball, game, united, players\n",
      "Topic 02: trump, eu, bank, uk, people, brexit, clinton, government, vote, campaign\n",
      "Topic 03: promoter, prize, entries, tickets, barclays, winners, competition, details, n1, entry\n",
      "Topic 04: vile, carrie, lawrence, affleck, congratulations, maternal, shrinking, plainly, tube, cliff\n",
      "Topic 05: film, album, music, people, life, time, pop, band, song, songs\n",
      "Topic 06: groping, gibson, owes, mel, congratulations, maternal, shrinking, plainly, tube, psychiatric\n",
      "Topic 07: rhodes, lou, congratulations, maternal, shrinking, plainly, angels, tube, psychiatric, undeniable\n",
      "Topic 08: shaun, sheep, wallace, der, originated, chairman, rip, burton, debuted, die\n",
      "Topic 09: radiohead, lisbon, jonny, imminent, manuel, dividends, overhaul, tame, invoke, switzerland\n",
      "Topic 10: yoga, bma, zac, junior, oddity, fred, doctors, tube, hunt, incorporated\n"
     ]
    }
   ],
   "source": [
    "# show topic descriptors\n",
    "def get_descriptor( terms, H, topic_index, top ):\n",
    "    top_indices = np.argsort( H[topic_index,:] )[::-1]\n",
    "    top_terms = []\n",
    "    for term_index in top_indices[0:top]:\n",
    "        top_terms.append( terms[term_index] )\n",
    "    return top_terms\n",
    "\n",
    "descriptors = []\n",
    "for topic_index in range(k):\n",
    "    descriptors.append( get_descriptor( terms, H, topic_index, 10 ) )\n",
    "    str_descriptor = \", \".join( descriptors[topic_index] )\n",
    "    print(\"Topic %02d: %s\" % ( topic_index+1, str_descriptor ) )"
   ]
  },
  {
   "cell_type": "code",
   "execution_count": 31,
   "metadata": {},
   "outputs": [
    {
     "name": "stdout",
     "output_type": "stream",
     "text": [
      "01. Christian Eriksen doubles up as Spurs ease to victory against Sunderland Before this game Sam Allard\n",
      "02. Crystal Palace punish Swansea profligacy as Scott Dann grabs point Swansea City stretched their unbe\n",
      "03. Mauricio Pochettino tells Tottenham fans to dream following win at City Mauricio Pochettino said Tot\n",
      "04. Arsène Wenger’s referee complaints ridiculed by Ronald Koeman Ronald Koeman ridiculed Arsène Wenger \n",
      "05. Rafael Benítez aghast after Newcastle surrender meekly at Southampton Rafael Benítez was aghast at N\n",
      "06. Jürgen Klopp says Liverpool cannot complain about defensive tactics Jürgen Klopp said Liverpool have\n",
      "07. Manchester City will not give up title fight, says Manuel Pellegrini Manuel Pellegrini insists that \n",
      "08. Liverpool v West Bromwich Albion: match preview With Liverpool’s sights raised this season Jürgen Kl\n",
      "09. Arsène Wenger: I am not in the mood to dream of Arsenal winning League Arsène Wenger has written off\n",
      "10. Arsenal suffer ‘confidence issue’ as Petr Cech injured in Swansea defeat Arsène Wenger admitted his \n"
     ]
    }
   ],
   "source": [
    "def get_top_snippets( all_snippets, W, topic_index, top ):\n",
    "    top_indices = np.argsort( W[:,topic_index] )[::-1]\n",
    "    top_snippets = []\n",
    "    for doc_index in top_indices[0:top]:\n",
    "        top_snippets.append( all_snippets[doc_index] )\n",
    "    return top_snippets\n",
    "\n",
    "topic_snippets = get_top_snippets( snippets, W, 0, 10 )\n",
    "for i, snippet in enumerate(topic_snippets):\n",
    "    print(\"%02d. %s\" % ( (i+1), snippet ) )"
   ]
  },
  {
   "cell_type": "markdown",
   "metadata": {},
   "source": [
    "## Topic Coherence"
   ]
  },
  {
   "cell_type": "code",
   "execution_count": 32,
   "metadata": {},
   "outputs": [
    {
     "name": "stderr",
     "output_type": "stream",
     "text": [
      "100%|██████████| 12/12 [02:07<00:00, 10.60s/it]\n"
     ]
    }
   ],
   "source": [
    "kmin, kmax = 4, 15\n",
    "\n",
    "topic_models = []\n",
    "for k in tqdm(range(kmin,kmax+1)):\n",
    "    model = LatentDirichletAllocation(n_components=k, max_iter=5,\n",
    "                                learning_method='batch',\n",
    "                                learning_offset=50.,\n",
    "                                random_state=1)\n",
    "    W = model.fit_transform( A )\n",
    "    H = model.components_    \n",
    "    topic_models.append( (k,W,H) )"
   ]
  },
  {
   "cell_type": "code",
   "execution_count": 33,
   "metadata": {},
   "outputs": [
    {
     "name": "stdout",
     "output_type": "stream",
     "text": [
      "Model has 12192 terms\n"
     ]
    }
   ],
   "source": [
    "import gensim\n",
    "\n",
    "w2v_model = gensim.models.Word2Vec.load(\"w2v-model.bin\")\n",
    "print( \"Model has %d terms\" % len(w2v_model.wv.vocab) )"
   ]
  },
  {
   "cell_type": "markdown",
   "metadata": {},
   "source": [
    "Calculate topic coherence TC-W2C as a mean pairwise similarity of words from topic. "
   ]
  },
  {
   "cell_type": "code",
   "execution_count": 34,
   "metadata": {},
   "outputs": [
    {
     "name": "stdout",
     "output_type": "stream",
     "text": [
      "K=04: Coherence=0.3924\n",
      "K=05: Coherence=0.4297\n",
      "K=06: Coherence=0.4234\n",
      "K=07: Coherence=0.4103\n",
      "K=08: Coherence=0.4735\n",
      "K=09: Coherence=0.4438\n",
      "K=10: Coherence=0.4035\n",
      "K=11: Coherence=0.4706\n",
      "K=12: Coherence=0.5705\n",
      "K=13: Coherence=0.4176\n",
      "K=14: Coherence=0.4844\n",
      "K=15: Coherence=0.4889\n"
     ]
    }
   ],
   "source": [
    "from itertools import combinations\n",
    "\n",
    "\n",
    "def calculate_coherence( w2v_model, term_rankings ):\n",
    "    overall_coherence = 0.0\n",
    "    for topic_index in range(len(term_rankings)):\n",
    "        # check each pair of terms\n",
    "        pair_scores = []\n",
    "        for pair in combinations( term_rankings[topic_index], 2 ):\n",
    "            pair_scores.append( w2v_model.similarity(pair[0], pair[1]) )\n",
    "        # get the mean for all pairs in this topic\n",
    "        topic_score = sum(pair_scores) / len(pair_scores)\n",
    "        overall_coherence += topic_score\n",
    "    # get the mean score across all topics\n",
    "    return overall_coherence / len(term_rankings)\n",
    "\n",
    "\n",
    "k_values = []\n",
    "coherences = []\n",
    "for (k,W,H) in topic_models:\n",
    "    # Get all of the topic descriptors - the term_rankings, based on top 10 terms\n",
    "    term_rankings = []\n",
    "    for topic_index in range(k):\n",
    "        term_rankings.append( get_descriptor( terms, H, topic_index, 10 ) )\n",
    "    # Now calculate the coherence based on our Word2vec model\n",
    "    k_values.append( k )\n",
    "    coherences.append( calculate_coherence( w2v_model, term_rankings ) )\n",
    "    print(\"K=%02d: Coherence=%.4f\" % ( k, coherences[-1] ) )"
   ]
  },
  {
   "cell_type": "code",
   "execution_count": 35,
   "metadata": {},
   "outputs": [
    {
     "data": {
      "image/png": "[encoded data removed]",
      "text/plain": [
       "<matplotlib.figure.Figure at 0x7fbc603ba198>"
      ]
     },
     "metadata": {},
     "output_type": "display_data"
    }
   ],
   "source": [
    "fig = plt.figure(figsize=(13,7))\n",
    "# create the line plot\n",
    "ax = plt.plot( k_values, coherences )\n",
    "plt.xticks(k_values)\n",
    "plt.xlabel(\"Number of Topics\")\n",
    "plt.ylabel(\"Mean Coherence\")\n",
    "# add the points\n",
    "plt.scatter( k_values, coherences, s=120)\n",
    "# find and annotate the maximum point on the plot\n",
    "ymax = max(coherences)\n",
    "xpos = coherences.index(ymax)\n",
    "best_k = k_values[xpos]\n",
    "plt.annotate( \"k=%d\" % best_k, xy=(best_k, ymax), xytext=(best_k, ymax), textcoords=\"offset points\", fontsize=16)\n",
    "# show the plot\n",
    "plt.show()"
   ]
  },
  {
   "cell_type": "code",
   "execution_count": 36,
   "metadata": {},
   "outputs": [
    {
     "name": "stdout",
     "output_type": "stream",
     "text": [
      "Topic 01: league, season, leicester, premier, goal, ball, liverpool, game, united, players\n",
      "Topic 02: trump, eu, people, uk, brexit, time, health, government, clinton, bank\n",
      "Topic 03: bank, rbs, deutsche, banks, shares, lloyds, barclays, banking, libor, taxpayer\n",
      "Topic 04: superman, batman, prize, promoter, parker, gibson, entries, marvel, barclays, tickets\n",
      "Topic 05: album, film, music, songs, pop, song, band, rock, love, festival\n",
      "Topic 06: detective, sequences, immersive, orchestral, spins, acclaim, compile, premiered, inventive, revenant\n",
      "Topic 07: halves, encore, angel, melancholy, exhilarating, detective, sequences, immersive, orchestral, spins\n",
      "Topic 08: detective, sequences, immersive, orchestral, spins, acclaim, compile, premiered, inventive, revenant\n",
      "Topic 09: detective, sequences, immersive, orchestral, spins, acclaim, compile, premiered, inventive, revenant\n",
      "Topic 10: milner, lallana, firmino, sturridge, coutinho, mignolet, moreno, henderson, lucas, mané\n",
      "Topic 11: detective, sequences, immersive, orchestral, spins, acclaim, compile, premiered, inventive, revenant\n",
      "Topic 12: detective, sequences, immersive, orchestral, spins, acclaim, compile, premiered, inventive, revenant\n"
     ]
    }
   ],
   "source": [
    "k = best_k\n",
    "# get the model that we generated earlier.\n",
    "W = topic_models[k-kmin][1]\n",
    "H = topic_models[k-kmin][2]\n",
    "\n",
    "for topic_index in range(k):\n",
    "    descriptor = get_descriptor( terms, H, topic_index, 10 )\n",
    "    str_descriptor = \", \".join( descriptor )\n",
    "    print(\"Topic %02d: %s\" % ( topic_index+1, str_descriptor ) )"
   ]
  },
  {
   "cell_type": "code",
   "execution_count": 39,
   "metadata": {},
   "outputs": [
    {
     "data": {
      "text/plain": [
       "-2.8952874506136589e-14"
      ]
     },
     "execution_count": 39,
     "metadata": {},
     "output_type": "execute_result"
    }
   ],
   "source": [
    "np.mean(H[5,:] - H[8,:])"
   ]
  },
  {
   "cell_type": "code",
   "execution_count": 40,
   "metadata": {},
   "outputs": [
    {
     "data": {
      "text/plain": [
       "0.1"
      ]
     },
     "execution_count": 40,
     "metadata": {},
     "output_type": "execute_result"
    }
   ],
   "source": [
    "model.perp_tol"
   ]
  },
  {
   "cell_type": "code",
   "execution_count": null,
   "metadata": {},
   "outputs": [],
   "source": []
  }
 ],
 "metadata": {
  "kernelspec": {
   "display_name": "Python 3",
   "language": "python",
   "name": "python3"
  },
  "language_info": {
   "codemirror_mode": {
    "name": "ipython",
    "version": 3
   },
   "file_extension": ".py",
   "mimetype": "text/x-python",
   "name": "python",
   "nbconvert_exporter": "python",
   "pygments_lexer": "ipython3",
   "version": "3.5.4"
  },
  "widgets": {
   "state": {},
   "version": "1.1.2"
  }
 },
 "nbformat": 4,
 "nbformat_minor": 2
}
